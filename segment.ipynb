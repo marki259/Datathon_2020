{
 "cells": [
  {
   "cell_type": "markdown",
   "metadata": {},
   "source": [
    "get segment "
   ]
  },
  {
   "cell_type": "code",
   "execution_count": 31,
   "metadata": {},
   "outputs": [],
   "source": [
    "import requests \n",
    "import pandas as pd\n",
    "from pandas.io.json import json_normalize"
   ]
  },
  {
   "cell_type": "code",
   "execution_count": 2,
   "metadata": {},
   "outputs": [],
   "source": [
    "request = requests.get('https://telraam-api.net/v0/segments/active')\n",
    "\n",
    "r_json = request.json()\n"
   ]
  },
  {
   "cell_type": "code",
   "execution_count": 29,
   "metadata": {},
   "outputs": [
    {
     "data": {
      "text/plain": [
       "dict_keys(['type', 'features'])"
      ]
     },
     "execution_count": 29,
     "metadata": {},
     "output_type": "execute_result"
    }
   ],
   "source": [
    "r_json.keys()"
   ]
  },
  {
   "cell_type": "code",
   "execution_count": 3,
   "metadata": {},
   "outputs": [
    {
     "data": {
      "text/plain": [
       "dict_keys(['type', 'geometry', 'properties'])"
      ]
     },
     "execution_count": 3,
     "metadata": {},
     "output_type": "execute_result"
    }
   ],
   "source": [
    "r_json['features'][0].keys()"
   ]
  },
  {
   "cell_type": "code",
   "execution_count": 4,
   "metadata": {},
   "outputs": [
    {
     "data": {
      "text/plain": [
       "{'type': 'MultiLineString',\n",
       " 'coordinates': [[[4.584397821453392, 51.12834082089698],\n",
       "   [4.584530737304404, 51.1283428218792],\n",
       "   [4.584653341660802, 51.12834466790482],\n",
       "   [4.586298696736095, 51.12837301897896],\n",
       "   [4.586400107740886, 51.128373775987576],\n",
       "   [4.5864093711407925, 51.12837384513881],\n",
       "   [4.586615393112055, 51.12837538286642]]]}"
      ]
     },
     "execution_count": 4,
     "metadata": {},
     "output_type": "execute_result"
    }
   ],
   "source": [
    "r_json['features'][0]['geometry']"
   ]
  },
  {
   "cell_type": "code",
   "execution_count": 5,
   "metadata": {},
   "outputs": [
    {
     "data": {
      "text/plain": [
       "{'id': 84238,\n",
       " 'speed': 50,\n",
       " 'oneway': False,\n",
       " 'road_type': '',\n",
       " 'road_speed': '',\n",
       " 'pedestrian': None,\n",
       " 'bike': None,\n",
       " 'car': None,\n",
       " 'lorry': None,\n",
       " 'last_data_package': None,\n",
       " 'pedestrian_avg': 0,\n",
       " 'bike_avg': 0,\n",
       " 'car_avg': 0,\n",
       " 'lorry_avg': 0,\n",
       " 'typical_data': None,\n",
       " 'car_speed_histogram': None,\n",
       " 'car_speed_buckets': None}"
      ]
     },
     "execution_count": 5,
     "metadata": {},
     "output_type": "execute_result"
    }
   ],
   "source": [
    "r_json['features'][0]['properties']"
   ]
  },
  {
   "cell_type": "code",
   "execution_count": 6,
   "metadata": {},
   "outputs": [
    {
     "data": {
      "text/plain": [
       "dict_keys(['type', 'features'])"
      ]
     },
     "execution_count": 6,
     "metadata": {},
     "output_type": "execute_result"
    }
   ],
   "source": [
    "r_json.keys()"
   ]
  },
  {
   "cell_type": "code",
   "execution_count": 20,
   "metadata": {},
   "outputs": [
    {
     "data": {
      "text/plain": [
       "{'type': 'Feature',\n",
       " 'geometry': {'type': 'MultiLineString',\n",
       "  'coordinates': [[[4.584397821453392, 51.12834082089698],\n",
       "    [4.584530737304404, 51.1283428218792],\n",
       "    [4.584653341660802, 51.12834466790482],\n",
       "    [4.586298696736095, 51.12837301897896],\n",
       "    [4.586400107740886, 51.128373775987576],\n",
       "    [4.5864093711407925, 51.12837384513881],\n",
       "    [4.586615393112055, 51.12837538286642]]]},\n",
       " 'properties': {'id': 84238,\n",
       "  'speed': 50,\n",
       "  'oneway': False,\n",
       "  'road_type': '',\n",
       "  'road_speed': '',\n",
       "  'pedestrian': None,\n",
       "  'bike': None,\n",
       "  'car': None,\n",
       "  'lorry': None,\n",
       "  'last_data_package': None,\n",
       "  'pedestrian_avg': 0,\n",
       "  'bike_avg': 0,\n",
       "  'car_avg': 0,\n",
       "  'lorry_avg': 0,\n",
       "  'typical_data': None,\n",
       "  'car_speed_histogram': None,\n",
       "  'car_speed_buckets': None}}"
      ]
     },
     "execution_count": 20,
     "metadata": {},
     "output_type": "execute_result"
    }
   ],
   "source": [
    "r_json['features'][0]"
   ]
  },
  {
   "cell_type": "code",
   "execution_count": 22,
   "metadata": {},
   "outputs": [
    {
     "data": {
      "text/plain": [
       "dict_keys(['type', 'geometry', 'properties'])"
      ]
     },
     "execution_count": 22,
     "metadata": {},
     "output_type": "execute_result"
    }
   ],
   "source": [
    "r_json['features'][0].keys()"
   ]
  },
  {
   "cell_type": "code",
   "execution_count": 23,
   "metadata": {},
   "outputs": [
    {
     "data": {
      "text/plain": [
       "{'type': 'MultiLineString',\n",
       " 'coordinates': [[[4.584397821453392, 51.12834082089698],\n",
       "   [4.584530737304404, 51.1283428218792],\n",
       "   [4.584653341660802, 51.12834466790482],\n",
       "   [4.586298696736095, 51.12837301897896],\n",
       "   [4.586400107740886, 51.128373775987576],\n",
       "   [4.5864093711407925, 51.12837384513881],\n",
       "   [4.586615393112055, 51.12837538286642]]]}"
      ]
     },
     "execution_count": 23,
     "metadata": {},
     "output_type": "execute_result"
    }
   ],
   "source": [
    "r_json['features'][0]['geometry']\n"
   ]
  },
  {
   "cell_type": "code",
   "execution_count": 25,
   "metadata": {},
   "outputs": [
    {
     "data": {
      "text/plain": [
       "{'id': 84238,\n",
       " 'speed': 50,\n",
       " 'oneway': False,\n",
       " 'road_type': '',\n",
       " 'road_speed': '',\n",
       " 'pedestrian': None,\n",
       " 'bike': None,\n",
       " 'car': None,\n",
       " 'lorry': None,\n",
       " 'last_data_package': None,\n",
       " 'pedestrian_avg': 0,\n",
       " 'bike_avg': 0,\n",
       " 'car_avg': 0,\n",
       " 'lorry_avg': 0,\n",
       " 'typical_data': None,\n",
       " 'car_speed_histogram': None,\n",
       " 'car_speed_buckets': None}"
      ]
     },
     "execution_count": 25,
     "metadata": {},
     "output_type": "execute_result"
    }
   ],
   "source": [
    "r_json['features'][0]['properties']\n"
   ]
  },
  {
   "cell_type": "code",
   "execution_count": 27,
   "metadata": {},
   "outputs": [],
   "source": [
    "# Make sure all columns are displayed\n",
    "pd.set_option(\"display.max_columns\",101)\n"
   ]
  },
  {
   "cell_type": "code",
   "execution_count": 30,
   "metadata": {},
   "outputs": [
    {
     "data": {
      "text/html": [
       "<div>\n",
       "<style scoped>\n",
       "    .dataframe tbody tr th:only-of-type {\n",
       "        vertical-align: middle;\n",
       "    }\n",
       "\n",
       "    .dataframe tbody tr th {\n",
       "        vertical-align: top;\n",
       "    }\n",
       "\n",
       "    .dataframe thead th {\n",
       "        text-align: right;\n",
       "    }\n",
       "</style>\n",
       "<table border=\"1\" class=\"dataframe\">\n",
       "  <thead>\n",
       "    <tr style=\"text-align: right;\">\n",
       "      <th></th>\n",
       "      <th>geometry</th>\n",
       "      <th>properties</th>\n",
       "      <th>type</th>\n",
       "    </tr>\n",
       "  </thead>\n",
       "  <tbody>\n",
       "    <tr>\n",
       "      <th>0</th>\n",
       "      <td>{'type': 'MultiLineString', 'coordinates': [[[...</td>\n",
       "      <td>{'id': 84238, 'speed': 50, 'oneway': False, 'r...</td>\n",
       "      <td>Feature</td>\n",
       "    </tr>\n",
       "    <tr>\n",
       "      <th>1</th>\n",
       "      <td>{'type': 'MultiLineString', 'coordinates': [[[...</td>\n",
       "      <td>{'id': 9000000005, 'speed': 50, 'oneway': Fals...</td>\n",
       "      <td>Feature</td>\n",
       "    </tr>\n",
       "    <tr>\n",
       "      <th>2</th>\n",
       "      <td>{'type': 'MultiLineString', 'coordinates': [[[...</td>\n",
       "      <td>{'id': 3000136655, 'speed': 50, 'oneway': Fals...</td>\n",
       "      <td>Feature</td>\n",
       "    </tr>\n",
       "    <tr>\n",
       "      <th>3</th>\n",
       "      <td>{'type': 'MultiLineString', 'coordinates': [[[...</td>\n",
       "      <td>{'id': 3000129228, 'speed': 50, 'oneway': Fals...</td>\n",
       "      <td>Feature</td>\n",
       "    </tr>\n",
       "    <tr>\n",
       "      <th>4</th>\n",
       "      <td>{'type': 'MultiLineString', 'coordinates': [[[...</td>\n",
       "      <td>{'id': 2000026769, 'speed': 50, 'oneway': Fals...</td>\n",
       "      <td>Feature</td>\n",
       "    </tr>\n",
       "    <tr>\n",
       "      <th>5</th>\n",
       "      <td>{'type': 'MultiLineString', 'coordinates': [[[...</td>\n",
       "      <td>{'id': 2000026769, 'speed': 50, 'oneway': Fals...</td>\n",
       "      <td>Feature</td>\n",
       "    </tr>\n",
       "  </tbody>\n",
       "</table>\n",
       "</div>"
      ],
      "text/plain": [
       "                                            geometry  \\\n",
       "0  {'type': 'MultiLineString', 'coordinates': [[[...   \n",
       "1  {'type': 'MultiLineString', 'coordinates': [[[...   \n",
       "2  {'type': 'MultiLineString', 'coordinates': [[[...   \n",
       "3  {'type': 'MultiLineString', 'coordinates': [[[...   \n",
       "4  {'type': 'MultiLineString', 'coordinates': [[[...   \n",
       "5  {'type': 'MultiLineString', 'coordinates': [[[...   \n",
       "\n",
       "                                          properties     type  \n",
       "0  {'id': 84238, 'speed': 50, 'oneway': False, 'r...  Feature  \n",
       "1  {'id': 9000000005, 'speed': 50, 'oneway': Fals...  Feature  \n",
       "2  {'id': 3000136655, 'speed': 50, 'oneway': Fals...  Feature  \n",
       "3  {'id': 3000129228, 'speed': 50, 'oneway': Fals...  Feature  \n",
       "4  {'id': 2000026769, 'speed': 50, 'oneway': Fals...  Feature  \n",
       "5  {'id': 2000026769, 'speed': 50, 'oneway': Fals...  Feature  "
      ]
     },
     "execution_count": 30,
     "metadata": {},
     "output_type": "execute_result"
    }
   ],
   "source": [
    "df = pd.DataFrame(r_json['features'])\n",
    "\n",
    "df.head(6)\n",
    "\n",
    "#some nested dictionaries. can be flattened with json_normalize function"
   ]
  },
  {
   "cell_type": "code",
   "execution_count": 34,
   "metadata": {},
   "outputs": [
    {
     "data": {
      "text/html": [
       "<div>\n",
       "<style scoped>\n",
       "    .dataframe tbody tr th:only-of-type {\n",
       "        vertical-align: middle;\n",
       "    }\n",
       "\n",
       "    .dataframe tbody tr th {\n",
       "        vertical-align: top;\n",
       "    }\n",
       "\n",
       "    .dataframe thead th {\n",
       "        text-align: right;\n",
       "    }\n",
       "</style>\n",
       "<table border=\"1\" class=\"dataframe\">\n",
       "  <thead>\n",
       "    <tr style=\"text-align: right;\">\n",
       "      <th></th>\n",
       "      <th>geometry.coordinates</th>\n",
       "      <th>geometry.type</th>\n",
       "      <th>properties.bike</th>\n",
       "      <th>properties.bike_avg</th>\n",
       "      <th>properties.car</th>\n",
       "      <th>properties.car_avg</th>\n",
       "      <th>properties.car_speed_buckets</th>\n",
       "      <th>properties.car_speed_histogram</th>\n",
       "      <th>properties.id</th>\n",
       "      <th>properties.last_data_package</th>\n",
       "      <th>properties.lorry</th>\n",
       "      <th>properties.lorry_avg</th>\n",
       "      <th>properties.oneway</th>\n",
       "      <th>properties.pedestrian</th>\n",
       "      <th>properties.pedestrian_avg</th>\n",
       "      <th>properties.road_speed</th>\n",
       "      <th>properties.road_type</th>\n",
       "      <th>properties.speed</th>\n",
       "      <th>properties.typical_data</th>\n",
       "      <th>type</th>\n",
       "    </tr>\n",
       "  </thead>\n",
       "  <tbody>\n",
       "    <tr>\n",
       "      <th>0</th>\n",
       "      <td>[[[4.584397821453392, 51.12834082089698], [4.5...</td>\n",
       "      <td>MultiLineString</td>\n",
       "      <td>NaN</td>\n",
       "      <td>0</td>\n",
       "      <td>NaN</td>\n",
       "      <td>0</td>\n",
       "      <td>None</td>\n",
       "      <td>None</td>\n",
       "      <td>84238</td>\n",
       "      <td>None</td>\n",
       "      <td>NaN</td>\n",
       "      <td>0</td>\n",
       "      <td>False</td>\n",
       "      <td>NaN</td>\n",
       "      <td>0</td>\n",
       "      <td></td>\n",
       "      <td></td>\n",
       "      <td>50</td>\n",
       "      <td>None</td>\n",
       "      <td>Feature</td>\n",
       "    </tr>\n",
       "    <tr>\n",
       "      <th>1</th>\n",
       "      <td>[[[4.672590795962118, 52.11733000219071], [4.6...</td>\n",
       "      <td>MultiLineString</td>\n",
       "      <td>67.0</td>\n",
       "      <td>49</td>\n",
       "      <td>1342.0</td>\n",
       "      <td>156</td>\n",
       "      <td>[0, 1, 2, 3, 4, 5, 6, 7]</td>\n",
       "      <td>[7, 4, 11, 57, 325, 496, 319, 128]</td>\n",
       "      <td>9000000005</td>\n",
       "      <td>None</td>\n",
       "      <td>234.0</td>\n",
       "      <td>70</td>\n",
       "      <td>False</td>\n",
       "      <td>13.0</td>\n",
       "      <td>8</td>\n",
       "      <td></td>\n",
       "      <td></td>\n",
       "      <td>50</td>\n",
       "      <td>[{'hour': '05:00:00', 'pedestrian': None, 'bik...</td>\n",
       "      <td>Feature</td>\n",
       "    </tr>\n",
       "    <tr>\n",
       "      <th>2</th>\n",
       "      <td>[[[4.844638195731497, 50.327054302724086], [4....</td>\n",
       "      <td>MultiLineString</td>\n",
       "      <td>NaN</td>\n",
       "      <td>0</td>\n",
       "      <td>NaN</td>\n",
       "      <td>0</td>\n",
       "      <td>None</td>\n",
       "      <td>None</td>\n",
       "      <td>3000136655</td>\n",
       "      <td>None</td>\n",
       "      <td>NaN</td>\n",
       "      <td>0</td>\n",
       "      <td>False</td>\n",
       "      <td>NaN</td>\n",
       "      <td>0</td>\n",
       "      <td></td>\n",
       "      <td></td>\n",
       "      <td>50</td>\n",
       "      <td>None</td>\n",
       "      <td>Feature</td>\n",
       "    </tr>\n",
       "    <tr>\n",
       "      <th>3</th>\n",
       "      <td>[[[3.9993072959552927, 50.45575610258816], [3....</td>\n",
       "      <td>MultiLineString</td>\n",
       "      <td>NaN</td>\n",
       "      <td>0</td>\n",
       "      <td>NaN</td>\n",
       "      <td>0</td>\n",
       "      <td>None</td>\n",
       "      <td>None</td>\n",
       "      <td>3000129228</td>\n",
       "      <td>None</td>\n",
       "      <td>NaN</td>\n",
       "      <td>0</td>\n",
       "      <td>False</td>\n",
       "      <td>NaN</td>\n",
       "      <td>0</td>\n",
       "      <td></td>\n",
       "      <td></td>\n",
       "      <td>50</td>\n",
       "      <td>None</td>\n",
       "      <td>Feature</td>\n",
       "    </tr>\n",
       "    <tr>\n",
       "      <th>4</th>\n",
       "      <td>[[[15.448795992214585, 47.06951620560343], [15...</td>\n",
       "      <td>MultiLineString</td>\n",
       "      <td>77.0</td>\n",
       "      <td>19</td>\n",
       "      <td>133.0</td>\n",
       "      <td>7</td>\n",
       "      <td>[0, 1, 2, 3]</td>\n",
       "      <td>[39, 65, 24, 6]</td>\n",
       "      <td>2000026769</td>\n",
       "      <td>None</td>\n",
       "      <td>21.0</td>\n",
       "      <td>0</td>\n",
       "      <td>False</td>\n",
       "      <td>36.0</td>\n",
       "      <td>10</td>\n",
       "      <td></td>\n",
       "      <td></td>\n",
       "      <td>50</td>\n",
       "      <td>[{'hour': '05:00:00', 'pedestrian': None, 'bik...</td>\n",
       "      <td>Feature</td>\n",
       "    </tr>\n",
       "    <tr>\n",
       "      <th>5</th>\n",
       "      <td>[[[15.448795992214585, 47.06951620560343], [15...</td>\n",
       "      <td>MultiLineString</td>\n",
       "      <td>77.0</td>\n",
       "      <td>19</td>\n",
       "      <td>133.0</td>\n",
       "      <td>7</td>\n",
       "      <td>[0, 1, 2, 3]</td>\n",
       "      <td>[39, 65, 24, 6]</td>\n",
       "      <td>2000026769</td>\n",
       "      <td>None</td>\n",
       "      <td>21.0</td>\n",
       "      <td>0</td>\n",
       "      <td>False</td>\n",
       "      <td>36.0</td>\n",
       "      <td>10</td>\n",
       "      <td></td>\n",
       "      <td></td>\n",
       "      <td>50</td>\n",
       "      <td>[{'hour': '05:00:00', 'pedestrian': None, 'bik...</td>\n",
       "      <td>Feature</td>\n",
       "    </tr>\n",
       "    <tr>\n",
       "      <th>6</th>\n",
       "      <td>[[[15.451218492213773, 47.06949100560392], [15...</td>\n",
       "      <td>MultiLineString</td>\n",
       "      <td>669.0</td>\n",
       "      <td>120</td>\n",
       "      <td>3775.0</td>\n",
       "      <td>360</td>\n",
       "      <td>[0, 1, 2, 3, 4, 5, 6, 7]</td>\n",
       "      <td>[871, 2313, 439, 28, 14, 14, 14, 84]</td>\n",
       "      <td>2000026746</td>\n",
       "      <td>None</td>\n",
       "      <td>279.0</td>\n",
       "      <td>0</td>\n",
       "      <td>False</td>\n",
       "      <td>1295.0</td>\n",
       "      <td>0</td>\n",
       "      <td></td>\n",
       "      <td></td>\n",
       "      <td>50</td>\n",
       "      <td>[{'hour': '05:00:00', 'pedestrian': None, 'bik...</td>\n",
       "      <td>Feature</td>\n",
       "    </tr>\n",
       "    <tr>\n",
       "      <th>7</th>\n",
       "      <td>[[[4.36989622163351, 50.869763476374665], [4.3...</td>\n",
       "      <td>MultiLineString</td>\n",
       "      <td>NaN</td>\n",
       "      <td>0</td>\n",
       "      <td>NaN</td>\n",
       "      <td>0</td>\n",
       "      <td>None</td>\n",
       "      <td>None</td>\n",
       "      <td>1003073660</td>\n",
       "      <td>None</td>\n",
       "      <td>NaN</td>\n",
       "      <td>0</td>\n",
       "      <td>False</td>\n",
       "      <td>NaN</td>\n",
       "      <td>0</td>\n",
       "      <td></td>\n",
       "      <td></td>\n",
       "      <td>50</td>\n",
       "      <td>None</td>\n",
       "      <td>Feature</td>\n",
       "    </tr>\n",
       "    <tr>\n",
       "      <th>8</th>\n",
       "      <td>[[[4.375625153038255, 50.85991509263234], [4.3...</td>\n",
       "      <td>MultiLineString</td>\n",
       "      <td>466.0</td>\n",
       "      <td>37</td>\n",
       "      <td>4438.0</td>\n",
       "      <td>275</td>\n",
       "      <td>[0, 1, 2, 3, 4, 5, 6, 7]</td>\n",
       "      <td>[232, 563, 1448, 1182, 450, 178, 147, 242]</td>\n",
       "      <td>1011117339</td>\n",
       "      <td>None</td>\n",
       "      <td>2210.0</td>\n",
       "      <td>104</td>\n",
       "      <td>False</td>\n",
       "      <td>51.0</td>\n",
       "      <td>4</td>\n",
       "      <td></td>\n",
       "      <td></td>\n",
       "      <td>50</td>\n",
       "      <td>[{'hour': '05:00:00', 'pedestrian': None, 'bik...</td>\n",
       "      <td>Feature</td>\n",
       "    </tr>\n",
       "    <tr>\n",
       "      <th>9</th>\n",
       "      <td>[[[4.37389490432045, 50.867077449017046], [4.3...</td>\n",
       "      <td>MultiLineString</td>\n",
       "      <td>85.0</td>\n",
       "      <td>1</td>\n",
       "      <td>347.0</td>\n",
       "      <td>10</td>\n",
       "      <td>[0, 1, 2, 3, 4, 5, 6, 7]</td>\n",
       "      <td>[165, 51, 51, 4, 18, 4, 15, 43]</td>\n",
       "      <td>1003073538</td>\n",
       "      <td>None</td>\n",
       "      <td>79.0</td>\n",
       "      <td>0</td>\n",
       "      <td>False</td>\n",
       "      <td>97.0</td>\n",
       "      <td>7</td>\n",
       "      <td></td>\n",
       "      <td></td>\n",
       "      <td>50</td>\n",
       "      <td>[{'hour': '05:00:00', 'pedestrian': None, 'bik...</td>\n",
       "      <td>Feature</td>\n",
       "    </tr>\n",
       "  </tbody>\n",
       "</table>\n",
       "</div>"
      ],
      "text/plain": [
       "                                geometry.coordinates    geometry.type  \\\n",
       "0  [[[4.584397821453392, 51.12834082089698], [4.5...  MultiLineString   \n",
       "1  [[[4.672590795962118, 52.11733000219071], [4.6...  MultiLineString   \n",
       "2  [[[4.844638195731497, 50.327054302724086], [4....  MultiLineString   \n",
       "3  [[[3.9993072959552927, 50.45575610258816], [3....  MultiLineString   \n",
       "4  [[[15.448795992214585, 47.06951620560343], [15...  MultiLineString   \n",
       "5  [[[15.448795992214585, 47.06951620560343], [15...  MultiLineString   \n",
       "6  [[[15.451218492213773, 47.06949100560392], [15...  MultiLineString   \n",
       "7  [[[4.36989622163351, 50.869763476374665], [4.3...  MultiLineString   \n",
       "8  [[[4.375625153038255, 50.85991509263234], [4.3...  MultiLineString   \n",
       "9  [[[4.37389490432045, 50.867077449017046], [4.3...  MultiLineString   \n",
       "\n",
       "   properties.bike  properties.bike_avg  properties.car  properties.car_avg  \\\n",
       "0              NaN                    0             NaN                   0   \n",
       "1             67.0                   49          1342.0                 156   \n",
       "2              NaN                    0             NaN                   0   \n",
       "3              NaN                    0             NaN                   0   \n",
       "4             77.0                   19           133.0                   7   \n",
       "5             77.0                   19           133.0                   7   \n",
       "6            669.0                  120          3775.0                 360   \n",
       "7              NaN                    0             NaN                   0   \n",
       "8            466.0                   37          4438.0                 275   \n",
       "9             85.0                    1           347.0                  10   \n",
       "\n",
       "  properties.car_speed_buckets              properties.car_speed_histogram  \\\n",
       "0                         None                                        None   \n",
       "1     [0, 1, 2, 3, 4, 5, 6, 7]          [7, 4, 11, 57, 325, 496, 319, 128]   \n",
       "2                         None                                        None   \n",
       "3                         None                                        None   \n",
       "4                 [0, 1, 2, 3]                             [39, 65, 24, 6]   \n",
       "5                 [0, 1, 2, 3]                             [39, 65, 24, 6]   \n",
       "6     [0, 1, 2, 3, 4, 5, 6, 7]        [871, 2313, 439, 28, 14, 14, 14, 84]   \n",
       "7                         None                                        None   \n",
       "8     [0, 1, 2, 3, 4, 5, 6, 7]  [232, 563, 1448, 1182, 450, 178, 147, 242]   \n",
       "9     [0, 1, 2, 3, 4, 5, 6, 7]             [165, 51, 51, 4, 18, 4, 15, 43]   \n",
       "\n",
       "   properties.id properties.last_data_package  properties.lorry  \\\n",
       "0          84238                         None               NaN   \n",
       "1     9000000005                         None             234.0   \n",
       "2     3000136655                         None               NaN   \n",
       "3     3000129228                         None               NaN   \n",
       "4     2000026769                         None              21.0   \n",
       "5     2000026769                         None              21.0   \n",
       "6     2000026746                         None             279.0   \n",
       "7     1003073660                         None               NaN   \n",
       "8     1011117339                         None            2210.0   \n",
       "9     1003073538                         None              79.0   \n",
       "\n",
       "   properties.lorry_avg  properties.oneway  properties.pedestrian  \\\n",
       "0                     0              False                    NaN   \n",
       "1                    70              False                   13.0   \n",
       "2                     0              False                    NaN   \n",
       "3                     0              False                    NaN   \n",
       "4                     0              False                   36.0   \n",
       "5                     0              False                   36.0   \n",
       "6                     0              False                 1295.0   \n",
       "7                     0              False                    NaN   \n",
       "8                   104              False                   51.0   \n",
       "9                     0              False                   97.0   \n",
       "\n",
       "   properties.pedestrian_avg properties.road_speed properties.road_type  \\\n",
       "0                          0                                              \n",
       "1                          8                                              \n",
       "2                          0                                              \n",
       "3                          0                                              \n",
       "4                         10                                              \n",
       "5                         10                                              \n",
       "6                          0                                              \n",
       "7                          0                                              \n",
       "8                          4                                              \n",
       "9                          7                                              \n",
       "\n",
       "   properties.speed                            properties.typical_data  \\\n",
       "0                50                                               None   \n",
       "1                50  [{'hour': '05:00:00', 'pedestrian': None, 'bik...   \n",
       "2                50                                               None   \n",
       "3                50                                               None   \n",
       "4                50  [{'hour': '05:00:00', 'pedestrian': None, 'bik...   \n",
       "5                50  [{'hour': '05:00:00', 'pedestrian': None, 'bik...   \n",
       "6                50  [{'hour': '05:00:00', 'pedestrian': None, 'bik...   \n",
       "7                50                                               None   \n",
       "8                50  [{'hour': '05:00:00', 'pedestrian': None, 'bik...   \n",
       "9                50  [{'hour': '05:00:00', 'pedestrian': None, 'bik...   \n",
       "\n",
       "      type  \n",
       "0  Feature  \n",
       "1  Feature  \n",
       "2  Feature  \n",
       "3  Feature  \n",
       "4  Feature  \n",
       "5  Feature  \n",
       "6  Feature  \n",
       "7  Feature  \n",
       "8  Feature  \n",
       "9  Feature  "
      ]
     },
     "execution_count": 34,
     "metadata": {},
     "output_type": "execute_result"
    }
   ],
   "source": [
    "df = json_normalize(r_json['features'])\n",
    "\n",
    "df.head(10)"
   ]
  },
  {
   "cell_type": "code",
   "execution_count": 35,
   "metadata": {},
   "outputs": [],
   "source": [
    "df.to_csv('segment.csv', index = False)"
   ]
  },
  {
   "cell_type": "code",
   "execution_count": null,
   "metadata": {},
   "outputs": [],
   "source": []
  },
  {
   "cell_type": "code",
   "execution_count": null,
   "metadata": {},
   "outputs": [],
   "source": []
  }
 ],
 "metadata": {
  "kernelspec": {
   "display_name": "Python 3",
   "language": "python",
   "name": "python3"
  },
  "language_info": {
   "codemirror_mode": {
    "name": "ipython",
    "version": 3
   },
   "file_extension": ".py",
   "mimetype": "text/x-python",
   "name": "python",
   "nbconvert_exporter": "python",
   "pygments_lexer": "ipython3",
   "version": "3.7.3"
  }
 },
 "nbformat": 4,
 "nbformat_minor": 4
}
