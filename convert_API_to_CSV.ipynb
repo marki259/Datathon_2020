{
 "cells": [
  {
   "cell_type": "markdown",
   "metadata": {},
   "source": [
    "get cameras"
   ]
  },
  {
   "cell_type": "code",
   "execution_count": 5,
   "metadata": {},
   "outputs": [],
   "source": [
    "import requests \n",
    "import pandas as pd \n",
    "\n"
   ]
  },
  {
   "cell_type": "code",
   "execution_count": 6,
   "metadata": {},
   "outputs": [],
   "source": [
    "request = requests.get('https://telraam-api.net/v0/cameras')\n",
    "\n",
    "r_json = request.json()\n",
    "\n",
    "## Some camera are problematic"
   ]
  },
  {
   "cell_type": "code",
   "execution_count": 7,
   "metadata": {},
   "outputs": [
    {
     "data": {
      "text/plain": [
       "{'mac': '202481601991611',\n",
       " 'user_id': '1284',\n",
       " 'segment_id': '80491',\n",
       " 'direction': True,\n",
       " 'status': 'active',\n",
       " 'manual': False,\n",
       " 'time_added': '2019-12-24T09:12:40.142Z',\n",
       " 'last_data_package': '2020-02-17T20:06:57.790Z',\n",
       " 'pedestrians_left': False,\n",
       " 'pedestrians_right': True,\n",
       " 'bikes_left': False,\n",
       " 'bikes_right': True,\n",
       " 'cars_left': True,\n",
       " 'cars_right': True}"
      ]
     },
     "execution_count": 7,
     "metadata": {},
     "output_type": "execute_result"
    }
   ],
   "source": [
    "r_json['cameras'][9]\n"
   ]
  },
  {
   "cell_type": "code",
   "execution_count": 8,
   "metadata": {},
   "outputs": [
    {
     "data": {
      "text/plain": [
       "dict_keys(['cameras'])"
      ]
     },
     "execution_count": 8,
     "metadata": {},
     "output_type": "execute_result"
    }
   ],
   "source": [
    "r_json.keys()"
   ]
  },
  {
   "cell_type": "code",
   "execution_count": 9,
   "metadata": {},
   "outputs": [],
   "source": [
    "# Make sure all columns are displayed\n",
    "pd.set_option(\"display.max_columns\",101)"
   ]
  },
  {
   "cell_type": "code",
   "execution_count": 10,
   "metadata": {},
   "outputs": [
    {
     "data": {
      "text/html": [
       "<div>\n",
       "<style scoped>\n",
       "    .dataframe tbody tr th:only-of-type {\n",
       "        vertical-align: middle;\n",
       "    }\n",
       "\n",
       "    .dataframe tbody tr th {\n",
       "        vertical-align: top;\n",
       "    }\n",
       "\n",
       "    .dataframe thead th {\n",
       "        text-align: right;\n",
       "    }\n",
       "</style>\n",
       "<table border=\"1\" class=\"dataframe\">\n",
       "  <thead>\n",
       "    <tr style=\"text-align: right;\">\n",
       "      <th></th>\n",
       "      <th>bikes_left</th>\n",
       "      <th>bikes_right</th>\n",
       "      <th>cars_left</th>\n",
       "      <th>cars_right</th>\n",
       "      <th>direction</th>\n",
       "      <th>last_data_package</th>\n",
       "      <th>mac</th>\n",
       "      <th>manual</th>\n",
       "      <th>pedestrians_left</th>\n",
       "      <th>pedestrians_right</th>\n",
       "      <th>segment_id</th>\n",
       "      <th>status</th>\n",
       "      <th>time_added</th>\n",
       "      <th>user_id</th>\n",
       "    </tr>\n",
       "  </thead>\n",
       "  <tbody>\n",
       "    <tr>\n",
       "      <th>0</th>\n",
       "      <td>False</td>\n",
       "      <td>True</td>\n",
       "      <td>True</td>\n",
       "      <td>True</td>\n",
       "      <td>True</td>\n",
       "      <td>2020-02-17T20:04:58.388Z</td>\n",
       "      <td>202481600960533</td>\n",
       "      <td>False</td>\n",
       "      <td>False</td>\n",
       "      <td>True</td>\n",
       "      <td>349353</td>\n",
       "      <td>active</td>\n",
       "      <td>2019-03-31T20:12:55.005Z</td>\n",
       "      <td>170</td>\n",
       "    </tr>\n",
       "    <tr>\n",
       "      <th>1</th>\n",
       "      <td>True</td>\n",
       "      <td>True</td>\n",
       "      <td>True</td>\n",
       "      <td>True</td>\n",
       "      <td>False</td>\n",
       "      <td>2020-02-17T20:07:06.513Z</td>\n",
       "      <td>202481587682671</td>\n",
       "      <td>False</td>\n",
       "      <td>True</td>\n",
       "      <td>True</td>\n",
       "      <td>460252</td>\n",
       "      <td>active</td>\n",
       "      <td>2019-11-08T08:56:51.029Z</td>\n",
       "      <td>1057</td>\n",
       "    </tr>\n",
       "    <tr>\n",
       "      <th>2</th>\n",
       "      <td>True</td>\n",
       "      <td>True</td>\n",
       "      <td>True</td>\n",
       "      <td>True</td>\n",
       "      <td>False</td>\n",
       "      <td>2020-02-17T20:05:03.459Z</td>\n",
       "      <td>202481588403398</td>\n",
       "      <td>False</td>\n",
       "      <td>True</td>\n",
       "      <td>True</td>\n",
       "      <td>108487</td>\n",
       "      <td>active</td>\n",
       "      <td>2019-11-14T16:02:42.031Z</td>\n",
       "      <td>1137</td>\n",
       "    </tr>\n",
       "    <tr>\n",
       "      <th>3</th>\n",
       "      <td>True</td>\n",
       "      <td>True</td>\n",
       "      <td>True</td>\n",
       "      <td>True</td>\n",
       "      <td>True</td>\n",
       "      <td>2020-02-17T20:05:12.073Z</td>\n",
       "      <td>202481593746471</td>\n",
       "      <td>False</td>\n",
       "      <td>False</td>\n",
       "      <td>True</td>\n",
       "      <td>1003073349</td>\n",
       "      <td>active</td>\n",
       "      <td>2019-11-09T11:27:13.709Z</td>\n",
       "      <td>1079</td>\n",
       "    </tr>\n",
       "    <tr>\n",
       "      <th>4</th>\n",
       "      <td>True</td>\n",
       "      <td>True</td>\n",
       "      <td>True</td>\n",
       "      <td>True</td>\n",
       "      <td>False</td>\n",
       "      <td>2020-02-17T20:07:10.992Z</td>\n",
       "      <td>202481592758650</td>\n",
       "      <td>False</td>\n",
       "      <td>True</td>\n",
       "      <td>True</td>\n",
       "      <td>38007</td>\n",
       "      <td>active</td>\n",
       "      <td>2019-11-23T14:28:35.765Z</td>\n",
       "      <td>1128</td>\n",
       "    </tr>\n",
       "    <tr>\n",
       "      <th>5</th>\n",
       "      <td>True</td>\n",
       "      <td>True</td>\n",
       "      <td>True</td>\n",
       "      <td>True</td>\n",
       "      <td>False</td>\n",
       "      <td>2020-02-17T20:08:19.309Z</td>\n",
       "      <td>202481601880250</td>\n",
       "      <td>False</td>\n",
       "      <td>False</td>\n",
       "      <td>True</td>\n",
       "      <td>159218</td>\n",
       "      <td>active</td>\n",
       "      <td>2019-11-16T13:45:49.207Z</td>\n",
       "      <td>1155</td>\n",
       "    </tr>\n",
       "  </tbody>\n",
       "</table>\n",
       "</div>"
      ],
      "text/plain": [
       "   bikes_left  bikes_right  cars_left  cars_right  direction  \\\n",
       "0       False         True       True        True       True   \n",
       "1        True         True       True        True      False   \n",
       "2        True         True       True        True      False   \n",
       "3        True         True       True        True       True   \n",
       "4        True         True       True        True      False   \n",
       "5        True         True       True        True      False   \n",
       "\n",
       "          last_data_package              mac  manual  pedestrians_left  \\\n",
       "0  2020-02-17T20:04:58.388Z  202481600960533   False             False   \n",
       "1  2020-02-17T20:07:06.513Z  202481587682671   False              True   \n",
       "2  2020-02-17T20:05:03.459Z  202481588403398   False              True   \n",
       "3  2020-02-17T20:05:12.073Z  202481593746471   False             False   \n",
       "4  2020-02-17T20:07:10.992Z  202481592758650   False              True   \n",
       "5  2020-02-17T20:08:19.309Z  202481601880250   False             False   \n",
       "\n",
       "   pedestrians_right  segment_id  status                time_added user_id  \n",
       "0               True      349353  active  2019-03-31T20:12:55.005Z     170  \n",
       "1               True      460252  active  2019-11-08T08:56:51.029Z    1057  \n",
       "2               True      108487  active  2019-11-14T16:02:42.031Z    1137  \n",
       "3               True  1003073349  active  2019-11-09T11:27:13.709Z    1079  \n",
       "4               True       38007  active  2019-11-23T14:28:35.765Z    1128  \n",
       "5               True      159218  active  2019-11-16T13:45:49.207Z    1155  "
      ]
     },
     "execution_count": 10,
     "metadata": {},
     "output_type": "execute_result"
    }
   ],
   "source": [
    "df = pd.DataFrame(r_json['cameras'])\n",
    "\n",
    "df.head(6)"
   ]
  },
  {
   "cell_type": "code",
   "execution_count": 11,
   "metadata": {},
   "outputs": [],
   "source": [
    "df.to_csv('traffic.csv', index = False)"
   ]
  }
 ],
 "metadata": {
  "kernelspec": {
   "display_name": "Python 3",
   "language": "python",
   "name": "python3"
  },
  "language_info": {
   "codemirror_mode": {
    "name": "ipython",
    "version": 3
   },
   "file_extension": ".py",
   "mimetype": "text/x-python",
   "name": "python",
   "nbconvert_exporter": "python",
   "pygments_lexer": "ipython3",
   "version": "3.7.3"
  }
 },
 "nbformat": 4,
 "nbformat_minor": 4
}
